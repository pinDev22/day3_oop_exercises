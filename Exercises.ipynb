{
 "cells": [
  {
   "cell_type": "markdown",
   "metadata": {},
   "source": [
    "#### Exercise 1 - Class Inheritance"
   ]
  },
  {
   "cell_type": "markdown",
   "metadata": {},
   "source": [
    "Create an Employee class that sets an employee's first name, last name, job title, salary, and email. The Employee class should have a class attribute for the raise amount set to 5% (1.05). Create a method that will apply the raise to an employee's salary."
   ]
  },
  {
   "cell_type": "code",
   "execution_count": 1,
   "metadata": {},
   "outputs": [],
   "source": [
    "class Employee:\n",
    "    raise_amount = 1.05\n",
    "\n",
    "    def __init__(self, first_name, last_name, job_title, salary, email):\n",
    "        self.first_name = first_name\n",
    "        self.last_name = last_name\n",
    "        self.job_title = job_title\n",
    "        self.salary = salary\n",
    "        self.email = email\n",
    "\n",
    "    def apply_raise(self):\n",
    "        self.salary = int(self.salary * self.raise_amount)\n"
   ]
  },
  {
   "cell_type": "markdown",
   "metadata": {},
   "source": [
    "Create two more classes that inherit from the Employee class. One for Sales and one for Development. Both of these classes will have the same attributes as the Employee.<br>\n",
    "- For the Sales employees, add a phone number attribute on instantiation using the super method. \n",
    "- Create a method on the Sales class that will Send a Follow Up Email. It should take in a customer name and \"send\" aka print a formatted email \"Dear *customer*, Thank you for your interest in our product. Please let me know if you have any questions. My email is *email* or my phone number is *phone number*. Thanks, *full name*\"\n",
    "- Create a method on the Development class called code that will print out \"*full name* is writing code\"."
   ]
  },
  {
   "cell_type": "code",
   "execution_count": 2,
   "metadata": {},
   "outputs": [
    {
     "name": "stdout",
     "output_type": "stream",
     "text": [
      "Dear Mike O'Neil,\n",
      "Thank you for your interest in our product. Please let me know if you have any questions.\n",
      "My email is john.doe@example.com or my phone number is 555-555-1234.\n",
      "Thanks,\n",
      "John Doe\n",
      "Dear Hannah Stern,\n",
      "Thank you for your interest in our product. Please let me know if you have any questions.\n",
      "My email is john.doe@example.com or my phone number is 555-555-1234.\n",
      "Thanks,\n",
      "John Doe\n",
      "Salary after raise: 52500\n"
     ]
    }
   ],
   "source": [
    "class Sales(Employee):\n",
    "    def __init__(self, first_name, last_name, job_title, salary, email, phone_number):\n",
    "        super().__init__(first_name, last_name, job_title, salary, email)\n",
    "        self.phone_number = phone_number\n",
    "\n",
    "    def send_follow_up_email(self, customer_name):\n",
    "        email_template = \"Dear {0},\\nThank you for your interest in our product. Please let me know if you have any questions.\\nMy email is {1} or my phone number is {2}.\\nThanks,\\n{3} {4}\"\n",
    "        print(email_template.format(customer_name, self.email, self.phone_number, self.first_name, self.last_name))\n",
    "\n",
    "\n",
    "class Development(Employee):\n",
    "    def code(self):\n",
    "        print(\"{} {} is writing code\".format(self.first_name, self.last_name))\n",
    "\n"
   ]
  },
  {
   "cell_type": "markdown",
   "metadata": {},
   "source": [
    "- Create an instance of a Sales Employee with a salary of $50,000.\n",
    "- Send follow up emails to \"Mike O'Neil\" and \"Hannah Stern\"\n",
    "- Give the employee a raise and print the salary"
   ]
  },
  {
   "cell_type": "code",
   "execution_count": 3,
   "metadata": {},
   "outputs": [
    {
     "name": "stdout",
     "output_type": "stream",
     "text": [
      "Dear Mike O'Neil,\n",
      "Thank you for your interest in our product. Please let me know if you have any questions.\n",
      "My email is john.doe@example.com or my phone number is 555-555-1234.\n",
      "Thanks,\n",
      "John Doe\n",
      "Dear Hannah Stern,\n",
      "Thank you for your interest in our product. Please let me know if you have any questions.\n",
      "My email is john.doe@example.com or my phone number is 555-555-1234.\n",
      "Thanks,\n",
      "John Doe\n",
      "Salary after raise: 52500\n"
     ]
    }
   ],
   "source": [
    "sales_employee = Sales(\"John\", \"Doe\", \"Sales\", 50000, \"john.doe@example.com\", \"555-555-1234\")\n",
    "sales_employee.send_follow_up_email(\"Mike O'Neil\")\n",
    "sales_employee.send_follow_up_email(\"Hannah Stern\")\n",
    "\n",
    "sales_employee.apply_raise()\n",
    "print(\"Salary after raise:\", sales_employee.salary)"
   ]
  },
  {
   "cell_type": "markdown",
   "metadata": {},
   "source": [
    "- Create an instance of a Development Employee with a salary of $100,000\n",
    "- Write some code with this employee (aka call the code method)\n",
    "- Give the employee a raise and print the salary"
   ]
  },
  {
   "cell_type": "code",
   "execution_count": 4,
   "metadata": {},
   "outputs": [
    {
     "name": "stdout",
     "output_type": "stream",
     "text": [
      "Jane Doe is writing code\n",
      "Salary after raise: 105000\n"
     ]
    }
   ],
   "source": [
    "dev_employee = Development(\"Jane\", \"Doe\", \"Development\", 100000, \"jane.doe@example.com\")\n",
    "dev_employee.code()\n",
    "\n",
    "dev_employee.apply_raise()\n",
    "print(\"Salary after raise:\", dev_employee.salary)\n"
   ]
  },
  {
   "cell_type": "markdown",
   "metadata": {},
   "source": [
    "#### Exercise 2 - Importing Modules"
   ]
  },
  {
   "cell_type": "markdown",
   "metadata": {},
   "source": [
    "In VS Code, create a module titled `geometry` and add two functions in there. One that will calculate the area of a circle given a radius. The second will find the hypotenuse of a right angle given the two sides. Import the module or the functions from the module and use it to find the answers to the below questions"
   ]
  },
  {
   "cell_type": "code",
   "execution_count": null,
   "metadata": {},
   "outputs": [],
   "source": []
  },
  {
   "cell_type": "markdown",
   "metadata": {},
   "source": [
    "What is the area of a circle with a radius of 7cm?"
   ]
  },
  {
   "cell_type": "code",
   "execution_count": null,
   "metadata": {},
   "outputs": [],
   "source": []
  },
  {
   "cell_type": "markdown",
   "metadata": {},
   "source": [
    "What is the hypotenuse of a right angle with sides of 3in and 4in?"
   ]
  },
  {
   "cell_type": "code",
   "execution_count": null,
   "metadata": {},
   "outputs": [],
   "source": []
  },
  {
   "cell_type": "code",
   "execution_count": null,
   "metadata": {},
   "outputs": [],
   "source": []
  },
  {
   "cell_type": "code",
   "execution_count": null,
   "metadata": {},
   "outputs": [],
   "source": []
  }
 ],
 "metadata": {
  "kernelspec": {
   "display_name": "Python 3 (ipykernel)",
   "language": "python",
   "name": "python3"
  },
  "language_info": {
   "codemirror_mode": {
    "name": "ipython",
    "version": 3
   },
   "file_extension": ".py",
   "mimetype": "text/x-python",
   "name": "python",
   "nbconvert_exporter": "python",
   "pygments_lexer": "ipython3",
   "version": "3.9.13"
  }
 },
 "nbformat": 4,
 "nbformat_minor": 4
}
